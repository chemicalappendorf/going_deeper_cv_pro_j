{
 "cells": [
  {
   "cell_type": "markdown",
   "id": "fa9a9724",
   "metadata": {},
   "source": [
    "# ResNet Ablation Study\n",
    "-----------------"
   ]
  },
  {
   "cell_type": "markdown",
   "id": "ed274e0e",
   "metadata": {},
   "source": [
    "## 1) ResNet 기본 블록 구성하기"
   ]
  },
  {
   "cell_type": "code",
   "execution_count": null,
   "id": "d25f0369",
   "metadata": {},
   "outputs": [],
   "source": []
  }
 ],
 "metadata": {
  "kernelspec": {
   "display_name": "Python 3",
   "language": "python",
   "name": "python3"
  },
  "language_info": {
   "codemirror_mode": {
    "name": "ipython",
    "version": 3
   },
   "file_extension": ".py",
   "mimetype": "text/x-python",
   "name": "python",
   "nbconvert_exporter": "python",
   "pygments_lexer": "ipython3",
   "version": "3.7.10"
  }
 },
 "nbformat": 4,
 "nbformat_minor": 5
}
